{
 "cells": [
  {
   "cell_type": "markdown",
   "metadata": {},
   "source": [
    "From the talk:"
   ]
  },
  {
   "cell_type": "code",
   "execution_count": 1,
   "metadata": {},
   "outputs": [],
   "source": [
    "using Flux, Zygote\n",
    "using LinearAlgebra"
   ]
  },
  {
   "cell_type": "code",
   "execution_count": 2,
   "metadata": {},
   "outputs": [
    {
     "data": {
      "text/plain": [
       "2-element Array{Float64,1}:\n",
       " -1.3816869168425612\n",
       " -3.0031056606885747"
      ]
     },
     "execution_count": 2,
     "metadata": {},
     "output_type": "execute_result"
    }
   ],
   "source": [
    "dense(W, b, σ=identity) = \n",
    "    x -> σ.(W*x .+ b)\n",
    "\n",
    "chain(f...) = foldl(∘, reverse(f))\n",
    "\n",
    "mlp = chain(\n",
    "    dense(randn(5, 10), randn(5), tanh),\n",
    "    dense(randn(2, 5), randn(2))\n",
    ")\n",
    "\n",
    "x = rand(10)\n",
    "\n",
    "mlp(x)"
   ]
  },
  {
   "cell_type": "code",
   "execution_count": 3,
   "metadata": {},
   "outputs": [
    {
     "data": {
      "text/plain": [
       "((f = (W = [-0.359284 -0.673653 … -0.845404 -0.822239; -0.359284 -0.673653 … -0.845404 -0.822239], b = [1.0, 1.0], σ = nothing), g = (W = [-0.062222 -0.0991618 … -0.0477812 -0.0604337; -0.0120535 -0.0192094 … -0.00925606 -0.0117071; … ; 0.207578 0.330812 … 0.159402 0.201612; 0.192665 0.307046 … 0.14795 0.187128], b = [-0.193221, -0.0374303, 0.37088, 0.6446, 0.598292], σ = nothing)),)"
      ]
     },
     "execution_count": 3,
     "metadata": {},
     "output_type": "execute_result"
    }
   ],
   "source": [
    "m̄, = gradient(mlp) do m\n",
    "    sum(m(x))\n",
    "end"
   ]
  },
  {
   "cell_type": "code",
   "execution_count": 12,
   "metadata": {},
   "outputs": [
    {
     "data": {
      "text/plain": [
       "2×5 Array{Float64,2}:\n",
       "  0.196299   0.350481  -0.130167  0.24543  1.41523\n",
       " -0.410973  -0.405537   0.691375  2.03092  0.44824"
      ]
     },
     "execution_count": 12,
     "metadata": {},
     "output_type": "execute_result"
    }
   ],
   "source": [
    "Flux.Tracker.update!(mlp.f.W, -0.01m̄.f.W)"
   ]
  },
  {
   "cell_type": "code",
   "execution_count": null,
   "metadata": {},
   "outputs": [],
   "source": []
  }
 ],
 "metadata": {
  "kernelspec": {
   "display_name": "Julia 1.1.1",
   "language": "julia",
   "name": "julia-1.1"
  },
  "language_info": {
   "file_extension": ".jl",
   "mimetype": "application/julia",
   "name": "julia",
   "version": "1.1.1"
  }
 },
 "nbformat": 4,
 "nbformat_minor": 2
}
